{
  "nbformat": 4,
  "nbformat_minor": 0,
  "metadata": {
    "colab": {
      "provenance": [],
      "private_outputs": true,
      "collapsed_sections": []
    },
    "kernelspec": {
      "name": "python3",
      "display_name": "Python 3"
    },
    "language_info": {
      "name": "python"
    },
    "gpuClass": "standard"
  },
  "cells": [
    {
      "cell_type": "markdown",
      "source": [
        "# Access to the Git Repository\n",
        "\n",
        "Visit https://professional-services.googlesource.com/new-password and follow the instructions.\n",
        "\n",
        "Paste the shown command under %%shell and run it."
      ],
      "metadata": {
        "id": "LpGS8EOvRJIC"
      }
    },
    {
      "cell_type": "code",
      "execution_count": null,
      "metadata": {
        "id": "PAwJdIi-33kb"
      },
      "outputs": [],
      "source": [
        "%%shell\n"
      ]
    },
    {
      "cell_type": "code",
      "source": [
        "!wget https://github.com/googlefonts/noto-cjk/raw/main/Sans/Variable/TTF/Subset/NotoSansJP-VF.ttf"
      ],
      "metadata": {
        "id": "c2uOKFO8EOC9"
      },
      "execution_count": null,
      "outputs": []
    },
    {
      "cell_type": "markdown",
      "source": [
        "# Set ImageMix Parameters\n",
        "## Create a config SpreadSheet.\n",
        "1. Request read access to the [Template Sheet](\n",
        "https://docs.google.com/spreadsheets/d/1VCUzp631aO2VBnMlpnh3_51bLj6kZ399R4Km7FHLVQs/edit#gid=0).\n",
        "2. Fill content on the sheets.\n",
        "3. Put the SpreadSheet URL into SPREADSHEET_URL parameter in a cell below.\n",
        "\n",
        "## Set Asset Folder Path\n",
        "Put path to a folder containing original images into ASSET_FOLDER_PATH_IN_GOOGLE_DRIVE. Full folder path from the Drive root directory is required.\n",
        "\n",
        "## Set Font File Path\n",
        "Put path to a font file used for texts into FONT_FILE_PATH. The default value is `/content/NotoSansJP-VF.ttf` which is installed a cell above, but you can download your favorite font and set it.\n",
        "\n",
        "## Set Output Folder Path\n",
        "Put path to a folder you want to save exported image creatives to OUTPUT_FOLDER_PATH_IN_GOOGLE_DRIVE. Full folder path from the Drive root directory is required."
      ],
      "metadata": {
        "id": "4TzbX69Q6Taz"
      }
    },
    {
      "cell_type": "code",
      "source": [
        "#@title ImageMix Parameters { display-mode: \"form\" }\n",
        "SPREADSHEET_URL = '' #@param {type: \"string\"}\n",
        "ASSET_FOLDER_PATH_IN_GOOGLE_DRIVE = 'My Drive/ImageMix/Assets' #@param {type: \"string\"}\n",
        "FONT_FILE_PATH = '/content/NotoSansJP-VF.ttf' #@param {type: \"string\"}\n",
        "OUTPUT_FOLDER_PATH_IN_GOOGLE_DRIVE = 'My Drive/ImageMix/Output' #@param {type: \"string\"}"
      ],
      "metadata": {
        "id": "QnqNwZZfC5Q8"
      },
      "execution_count": null,
      "outputs": []
    },
    {
      "cell_type": "code",
      "source": [
        "#@title Install Library from the Git Repository\n",
        "!pip install git+https://professional-services.googlesource.com/solutions/image_mix"
      ],
      "metadata": {
        "id": "uPwp1hjEp03P"
      },
      "execution_count": null,
      "outputs": []
    },
    {
      "cell_type": "code",
      "source": [
        "import os\n",
        "\n",
        "from google.colab import drive\n",
        "\n",
        "from image_mix import image_mix_main"
      ],
      "metadata": {
        "id": "GXTanpeqEweb"
      },
      "execution_count": null,
      "outputs": []
    },
    {
      "cell_type": "code",
      "source": [
        "_DRIVE_ROOT_PATH = '/content/drive'\n",
        "\n",
        "drive.mount(_DRIVE_ROOT_PATH)\n",
        "full_asset_folder_path = os.path.join(_DRIVE_ROOT_PATH, ASSET_FOLDER_PATH_IN_GOOGLE_DRIVE)\n",
        "full_output_folder_path = os.path.join(_DRIVE_ROOT_PATH, OUTPUT_FOLDER_PATH_IN_GOOGLE_DRIVE)"
      ],
      "metadata": {
        "id": "JU7gxbbMBVd7"
      },
      "execution_count": null,
      "outputs": []
    },
    {
      "cell_type": "code",
      "source": [
        "image_mixer = image_mix_main.ImageMixMain(SPREADSHEET_URL, full_asset_folder_path, FONT_FILE_PATH, full_output_folder_path)\n",
        "image_mixer.generate_creatives()"
      ],
      "metadata": {
        "id": "ry8DQ2-6BmnY"
      },
      "execution_count": null,
      "outputs": []
    }
  ]
}
